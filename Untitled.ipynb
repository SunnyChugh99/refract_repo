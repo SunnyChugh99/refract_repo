{
 "cells": [
  {
   "cell_type": "code",
   "execution_count": 1,
   "id": "6ea30bec-698b-48ae-88ea-c58a63b00e8b",
   "metadata": {},
   "outputs": [
    {
     "ename": "ERROR",
     "evalue": "Error in parse(text = x, srcfile = src): <text>:1:6: unexpected symbol\n1: with open\n         ^\n",
     "output_type": "error",
     "traceback": [
      "Error in parse(text = x, srcfile = src): <text>:1:6: unexpected symbol\n1: with open\n         ^\nTraceback:\n"
     ]
    }
   ],
   "source": [
    "with open(\"/data/testfile1\", \"w\") as file:\n",
    "    file.write(\"User impersonation testing for R-Jupyterlab\")\n",
    "    file.close()"
   ]
  },
  {
   "cell_type": "code",
   "execution_count": null,
   "id": "33da0ed7-0cdd-44eb-85b7-449d269993d8",
   "metadata": {},
   "outputs": [],
   "source": []
  }
 ],
 "metadata": {
  "kernelspec": {
   "display_name": "R",
   "language": "R",
   "name": "ir"
  },
  "language_info": {
   "codemirror_mode": "r",
   "file_extension": ".r",
   "mimetype": "text/x-r-source",
   "name": "R",
   "pygments_lexer": "r",
   "version": "4.0.3"
  }
 },
 "nbformat": 4,
 "nbformat_minor": 5
}
